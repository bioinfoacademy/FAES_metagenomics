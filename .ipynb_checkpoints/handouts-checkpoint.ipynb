{
 "cells": [
  {
   "cell_type": "markdown",
   "metadata": {},
   "source": [
    "metagnoemic course handouts\n",
    "- We'll use __usearch__ and __QIIME__ for 16S metagenomic data analysis\n",
    "- jupyter notebook has a bash kernel"
   ]
  },
  {
   "cell_type": "markdown",
   "metadata": {},
   "source": [
    "##### preparation\n",
    "- cd metag\n",
    "- mkdir out"
   ]
  },
  {
   "cell_type": "markdown",
   "metadata": {},
   "source": [
    "inspect raw fastq sequences - just text files"
   ]
  },
  {
   "cell_type": "code",
   "execution_count": 4,
   "metadata": {
    "collapsed": false
   },
   "outputs": [
    {
     "name": "stdout",
     "output_type": "stream",
     "text": [
      "@M03213:20:000000000-AJ4WK:1:1117:28725:17851 1:N:0:1\n",
      "CCTACGGGCGGCTGCAGTGGGGAATATTGGGCAATGGGCGCAAGCCTGACCCAGCAACGCCGCGTGAAGGAAGAAGGCTTTCGGGTTGTAAACTTCTTTTGTCAGGGACGAAGCAAGTGACGGTACCTGACGAATAAGCCACGGCTAACTACGTGCCAGCAGCCGCGGTAATACGTAGGTGGCAAGCGTTATCCGGATTTACTGGGTGTAAAGGGCGTGTAGGCGGGGAAGCAAGTCAGATGTGAAAACCACGGGCTCAACCTGTGGCCTGCAGTTGAAACTGGTGTTCTTGAGTGCTGGA\n",
      "+\n",
      "CCCCCGGF==>@@@FGGGGGGGGGGGGGGGGGGGGGGGGGGGGGGGGGGGGGGGGGGGGGGGGGGGGBFGGGGGGGGGGGGGGGGGGGGGGGFFFGGGGGGGFGGGGGGGGGGFFGGGGGGGGGGCBCEGGFEFGGGGG@DFEGGGGGGFEGGFCF>CFGGGFGE7EGGGGGFFFGFGGBFFGGGGGGGCFG?@;8EGDGGGGGGGCGEFGGGGE>E:EE8FGCGGGGCEEGF<>6>FA<@D<:77CFGD5*9<1@11<647@FFGC<>9>**(30<9<2*9C)=)(;497<)767+666)\n"
     ]
    }
   ],
   "source": [
    "head -4 fastq/S1_L001_R1_001.fastq"
   ]
  },
  {
   "cell_type": "markdown",
   "metadata": {},
   "source": [
    "inspect __forward__ read (R1) quality using __fastqc__"
   ]
  },
  {
   "cell_type": "code",
   "execution_count": 6,
   "metadata": {
    "collapsed": false
   },
   "outputs": [
    {
     "name": "stdout",
     "output_type": "stream",
     "text": [
      "Started analysis of S1_L001_R1_001.fastq\n",
      "Approx 25% complete for S1_L001_R1_001.fastq\n",
      "Approx 50% complete for S1_L001_R1_001.fastq\n",
      "Approx 75% complete for S1_L001_R1_001.fastq\n",
      "Approx 100% complete for S1_L001_R1_001.fastq\n",
      "Analysis complete for S1_L001_R1_001.fastq\n"
     ]
    }
   ],
   "source": [
    "fastqc fastq/S1_L001_R1_001.fastq -o out"
   ]
  },
  {
   "cell_type": "markdown",
   "metadata": {},
   "source": [
    "open out/S1_L001_R1_001_fastqc.html with your favorite browser \n",
    "- for example google-chrome"
   ]
  },
  {
   "cell_type": "markdown",
   "metadata": {},
   "source": [
    "inspect __reverse__ read (R2) quality"
   ]
  },
  {
   "cell_type": "code",
   "execution_count": 19,
   "metadata": {
    "collapsed": false
   },
   "outputs": [
    {
     "name": "stdout",
     "output_type": "stream",
     "text": [
      "Started analysis of S1_L001_R2_001.fastq\n",
      "Approx 25% complete for S1_L001_R2_001.fastq\n",
      "Approx 50% complete for S1_L001_R2_001.fastq\n",
      "Approx 75% complete for S1_L001_R2_001.fastq\n",
      "Approx 100% complete for S1_L001_R2_001.fastq\n",
      "Analysis complete for S1_L001_R2_001.fastq\n"
     ]
    }
   ],
   "source": [
    "fastqc fastq/S1_L001_R2_001.fastq -o out"
   ]
  },
  {
   "cell_type": "markdown",
   "metadata": {},
   "source": [
    "__Merge__ R1 and R2, this is essentially assembly"
   ]
  },
  {
   "cell_type": "markdown",
   "metadata": {},
   "source": [
    "usearch -fastq_mergepairs fastq/*_R1_*.fastq \\\n",
    "        -relabel @ \\\n",
    "        -fastqout out/merged.fq"
   ]
  },
  {
   "cell_type": "markdown",
   "metadata": {},
   "source": [
    "__filter__ to get high quality sequences"
   ]
  },
  {
   "cell_type": "code",
   "execution_count": 32,
   "metadata": {
    "collapsed": false
   },
   "outputs": [
    {
     "name": "stdout",
     "output_type": "stream",
     "text": [
      "usearch v8.1.1861_i86osx32, 4.0Gb RAM (17.2Gb total), 8 cores\n",
      "(C) Copyright 2013-15 Robert C. Edgar, all rights reserved.\n",
      "http://drive5.com/usearch\n",
      "\n",
      "License: ucfgut@gmail.com\n",
      "\n",
      "00:00 2.1Mb  100.0% Filtering, 52.6% passed\n",
      "     23256  FASTQ recs (23.3k)             \n",
      "     11023  Low qual recs discarded (expected errs > 1.00)\n",
      "     12233  Converted (12.2k, 52.6%)\n"
     ]
    }
   ],
   "source": [
    "usearch -fastq_filter out/merged.fastq \\\n",
    "        -fastq_maxee 1.0 \\\n",
    "        -fastqout out/seqs.fq \\\n",
    "        -fastaout out/seqs.fa"
   ]
  },
  {
   "cell_type": "markdown",
   "metadata": {},
   "source": [
    "__compare__ fastqc reports of merged.fastq with seqs.fq\n",
    "- 'quiet' flag: -q"
   ]
  },
  {
   "cell_type": "code",
   "execution_count": 34,
   "metadata": {
    "collapsed": true
   },
   "outputs": [],
   "source": [
    "fastqc out/merged.fastq -o out -q\n",
    "fastqc out/seqs.fq -o out -q"
   ]
  },
  {
   "cell_type": "markdown",
   "metadata": {},
   "source": [
    "de-duplication or de-replication"
   ]
  },
  {
   "cell_type": "code",
   "execution_count": 33,
   "metadata": {
    "collapsed": false
   },
   "outputs": [
    {
     "name": "stdout",
     "output_type": "stream",
     "text": [
      "usearch v8.1.1861_i86osx32, 4.0Gb RAM (17.2Gb total), 8 cores\n",
      "(C) Copyright 2013-15 Robert C. Edgar, all rights reserved.\n",
      "http://drive5.com/usearch\n",
      "\n",
      "License: ucfgut@gmail.com\n",
      "\n",
      "00:00  13Mb  100.0% Reading out/seqs.fa\n",
      "00:00 8.6Mb 12233 seqs, 8517 uniques, 6977 singletons (81.9%)\n",
      "00:00 8.6Mb Min size 1, median 1, max 19, avg 1.44\n",
      "00:00 8.7Mb  100.0% Writing seqs.derep.fa\n"
     ]
    }
   ],
   "source": [
    "usearch -derep_fulllength out/seqs.fa \\\n",
    "        -fastaout out/seqs.derep.fa \\\n",
    "        -sizeout"
   ]
  },
  {
   "cell_type": "markdown",
   "metadata": {},
   "source": [
    "obtain operational taxonomic units ( OTUs)"
   ]
  },
  {
   "cell_type": "code",
   "execution_count": 39,
   "metadata": {
    "collapsed": false
   },
   "outputs": [
    {
     "name": "stdout",
     "output_type": "stream",
     "text": [
      "usearch v8.1.1861_i86osx32, 4.0Gb RAM (17.2Gb total), 8 cores\n",
      "(C) Copyright 2013-15 Robert C. Edgar, all rights reserved.\n",
      "http://drive5.com/usearch\n",
      "\n",
      "License: ucfgut@gmail.com\n",
      "\n",
      "00:01  11Mb  100.0% 76 OTUs, 20 chimeras (1.3%)\n"
     ]
    }
   ],
   "source": [
    "usearch -cluster_otus out/seqs.derep.fa \\\n",
    "        -sizein \\\n",
    "        -minsize 2 \\\n",
    "        -otus out/rep_set.fa \\\n",
    "        -relabel OTU_"
   ]
  },
  {
   "cell_type": "markdown",
   "metadata": {},
   "source": [
    "map OTUs back to raw reads"
   ]
  },
  {
   "cell_type": "code",
   "execution_count": 40,
   "metadata": {
    "collapsed": false
   },
   "outputs": [
    {
     "name": "stdout",
     "output_type": "stream",
     "text": [
      "usearch v8.1.1861_i86osx32, 4.0Gb RAM (17.2Gb total), 8 cores\n",
      "(C) Copyright 2013-15 Robert C. Edgar, all rights reserved.\n",
      "http://drive5.com/usearch\n",
      "\n",
      "License: ucfgut@gmail.com\n",
      "\n",
      "00:00 1.6Mb  100.0% Reading out/rep_set.fa\n",
      "00:00 1.5Mb  100.0% Masking\n",
      "00:00 2.4Mb  100.0% Word stats\n",
      "00:00 2.4Mb  100.0% Alloc rows\n",
      "00:00 2.5Mb  100.0% Build index\n",
      "00:00  27Mb  100.0% Searching merged.fastq, 82.7% matched\n",
      "19216 / 23256 mapped to OTUs (82.6%)                     \n",
      "00:00  27Mb Writing out/otu.biom\n",
      "00:00  27Mb Writing out/otu.biom ...done.\n"
     ]
    }
   ],
   "source": [
    "usearch -usearch_global out/merged.fastq \\\n",
    "        -db out/rep_set.fa \\\n",
    "        -id 0.97 \\\n",
    "        -strand plus \\\n",
    "        -biomout out/otu.biom"
   ]
  },
  {
   "cell_type": "markdown",
   "metadata": {},
   "source": [
    "at this point we are done with USEARCH\n",
    "- onward to QIIME by type:\n",
    "- qiime\n",
    "\n",
    "Setting up ZSH (/bin/zsh) environment to run QIIME commands.\n",
    "You have QIIME version 1.9.1+dfsg-1biolinux4."
   ]
  },
  {
   "cell_type": "markdown",
   "metadata": {},
   "source": [
    "##### might need to set qiime_config\n",
    "- note there is a tab between _fp and /usr\n",
    "- echo \"assign_taxonomy_reference_seqs_fp /usr/share/qiime/data/gg_13_8_otus/rep_set/97_otus.fasta\" >> ~/.qiime_config\n",
    "\n",
    "- echo \"assign_taxonomy_id_to_taxonomy_fp /usr/share/qiime/data/gg_13_8_otus/taxonomy/97_otu_taxonomy.txt\" >> ~/.qiime_config"
   ]
  },
  {
   "cell_type": "code",
   "execution_count": 1,
   "metadata": {
    "collapsed": false
   },
   "outputs": [
    {
     "name": "stdout",
     "output_type": "stream",
     "text": [
      "\n",
      "System information\n",
      "==================\n",
      "         Platform:\tdarwin\n",
      "   Python version:\t2.7.14 |Anaconda, Inc.| (default, Nov  8 2017, 16:45:25)  [GCC 4.2.1 Compatible Clang 4.0.1 (tags/RELEASE_401/final)]\n",
      "Python executable:\t/Users/husenzhang/anaconda3/envs/qiime/bin/python\n",
      "\n",
      "QIIME default reference information\n",
      "===================================\n",
      "For details on what files are used as QIIME's default references, see here:\n",
      " https://github.com/biocore/qiime-default-reference/releases/tag/0.1.3\n",
      "\n",
      "Dependency versions\n",
      "===================\n",
      "          QIIME library version:\t1.9.1\n",
      "           QIIME script version:\t1.9.1\n",
      "qiime-default-reference version:\t0.1.3\n",
      "                  NumPy version:\t1.10.2\n",
      "                  SciPy version:\t1.0.0\n",
      "                 pandas version:\t0.21.0\n",
      "             matplotlib version:\t1.4.3\n",
      "            biom-format version:\t2.1.6\n",
      "                   h5py version:\t2.7.0 (HDF5 version: 1.10.1)\n",
      "                   qcli version:\t0.1.1\n",
      "                   pyqi version:\t0.3.2\n",
      "             scikit-bio version:\t0.2.3\n",
      "                 PyNAST version:\t1.2.2\n",
      "                Emperor version:\t0.9.51\n",
      "                burrito version:\t0.9.1\n",
      "       burrito-fillings version:\t0.1.1\n",
      "              sortmerna version:\tSortMeRNA version 2.0, 29/11/2014\n",
      "              sumaclust version:\tNot installed.\n",
      "                  swarm version:\tSwarm 1.2.19 [Mar  5 2016 17:12:19]\n",
      "                          gdata:\tInstalled.\n",
      "\n",
      "QIIME config values\n",
      "===================\n",
      "For definitions of these settings and to learn how to configure QIIME, see here:\n",
      " http://qiime.org/install/qiime_config.html\n",
      " http://qiime.org/tutorials/parallel_qiime.html\n",
      "\n",
      "                     blastmat_dir:\tNone\n",
      "      pick_otus_reference_seqs_fp:\t/Users/husenzhang/anaconda3/envs/qiime/lib/python2.7/site-packages/qiime_default_reference/gg_13_8_otus/rep_set/97_otus.fasta\n",
      "                         sc_queue:\tall.q\n",
      "      topiaryexplorer_project_dir:\tNone\n",
      "     pynast_template_alignment_fp:\t/Users/husenzhang/anaconda3/envs/qiime/lib/python2.7/site-packages/qiime_default_reference/gg_13_8_otus/rep_set_aligned/85_otus.pynast.fasta\n",
      "                  cluster_jobs_fp:\tstart_parallel_jobs.py\n",
      "pynast_template_alignment_blastdb:\tNone\n",
      "assign_taxonomy_reference_seqs_fp:\t/Users/husenzhang/anaconda3/envs/qiime/lib/python2.7/site-packages/qiime_default_reference/gg_13_8_otus/rep_set/97_otus.fasta\n",
      "                     torque_queue:\tfriendlyq\n",
      "                    jobs_to_start:\t1\n",
      "                       slurm_time:\tNone\n",
      "            denoiser_min_per_core:\t50\n",
      "assign_taxonomy_id_to_taxonomy_fp:\t/Users/husenzhang/anaconda3/envs/qiime/lib/python2.7/site-packages/qiime_default_reference/gg_13_8_otus/taxonomy/97_otu_taxonomy.txt\n",
      "                         temp_dir:\t/var/folders/dg/82rj8mdj68bdp7lfxtb0rrq80000gp/T/\n",
      "                     slurm_memory:\tNone\n",
      "                      slurm_queue:\tNone\n",
      "                      blastall_fp:\tblastall\n",
      "                 seconds_to_sleep:\t1\n"
     ]
    }
   ],
   "source": [
    "print_qiime_config.py"
   ]
  },
  {
   "cell_type": "code",
   "execution_count": 41,
   "metadata": {
    "collapsed": true
   },
   "outputs": [],
   "source": [
    "# may need to specify -r and -t \n",
    "assign_taxonomy.py -i out/rep_set.fa -o out/"
   ]
  },
  {
   "cell_type": "code",
   "execution_count": 42,
   "metadata": {
    "collapsed": true
   },
   "outputs": [],
   "source": [
    "align_seqs.py -i out/rep_set.fa -o out/"
   ]
  },
  {
   "cell_type": "code",
   "execution_count": 43,
   "metadata": {
    "collapsed": true
   },
   "outputs": [],
   "source": [
    "filter_alignment.py -i out/*aligned* -o out/"
   ]
  },
  {
   "cell_type": "code",
   "execution_count": 44,
   "metadata": {
    "collapsed": true
   },
   "outputs": [],
   "source": [
    "make_phylogeny.py -i out/*pfiltered* -o out/rep_set.tre"
   ]
  },
  {
   "cell_type": "code",
   "execution_count": 45,
   "metadata": {
    "collapsed": true
   },
   "outputs": [],
   "source": [
    "filter_otus_from_otu_table.py -i out/otu.biom \\\n",
    "                              -o out/otu.ms.biom \\\n",
    "                              -e out/*failures* \\\n",
    "                              --min_samples 2"
   ]
  },
  {
   "cell_type": "code",
   "execution_count": 46,
   "metadata": {
    "collapsed": true
   },
   "outputs": [],
   "source": [
    "biom add-metadata -i out/otu.ms.biom -o out/otu_tax.biom \\\n",
    "        --observation-metadata-fp out/*assignments.txt \\\n",
    "        --sc-separated taxonomy --observation-header OTUID,taxonomy"
   ]
  },
  {
   "cell_type": "code",
   "execution_count": 47,
   "metadata": {
    "collapsed": true
   },
   "outputs": [],
   "source": [
    "biom convert -i out/otu_tax.biom -o out/otu_tax_classic.txt --to-tsv --header-key taxonomy"
   ]
  },
  {
   "cell_type": "code",
   "execution_count": 2,
   "metadata": {
    "collapsed": true
   },
   "outputs": [],
   "source": [
    "## first add sample-metadata-fp\n",
    "biom add-metadata -i out/otu_tax.biom          \\\n",
    "                  -o out/otu_tax_spl.biom       \\\n",
    "                  -m data/map.txt"
   ]
  },
  {
   "cell_type": "code",
   "execution_count": 3,
   "metadata": {
    "collapsed": true
   },
   "outputs": [],
   "source": [
    "## then convert hdf5 to json\n",
    "biom convert --to-json -i out/otu_tax_spl.biom -o out/json"
   ]
  },
  {
   "cell_type": "code",
   "execution_count": 4,
   "metadata": {
    "collapsed": true
   },
   "outputs": [],
   "source": [
    "## remove intermediate file\n",
    "rm -f out/otu_tax_spl.biom"
   ]
  },
  {
   "cell_type": "code",
   "execution_count": 48,
   "metadata": {
    "collapsed": true
   },
   "outputs": [],
   "source": [
    "summarize_taxa.py -i out/otu_tax.biom -o out/ -t -u 0.001 -L 2,3,4,5,6,7"
   ]
  },
  {
   "cell_type": "markdown",
   "metadata": {},
   "source": [
    "metadata file __experimental design__"
   ]
  },
  {
   "cell_type": "code",
   "execution_count": 3,
   "metadata": {
    "collapsed": false
   },
   "outputs": [
    {
     "name": "stdout",
     "output_type": "stream",
     "text": [
      "#SampleID  Treatment  Description\n",
      "S1         drug       1\n",
      "S2         placebo    2\n",
      "S3         drug       3\n",
      "S4         drug       4\n",
      "S5         placebo    5\n",
      "S6         placebo    6\n"
     ]
    }
   ],
   "source": [
    "cat data/map.txt |column -t"
   ]
  },
  {
   "cell_type": "code",
   "execution_count": 4,
   "metadata": {
    "collapsed": false
   },
   "outputs": [
    {
     "name": "stdout",
     "output_type": "stream",
     "text": [
      "/Users/husenzhang/anaconda3/envs/qiime/lib/python2.7/site-packages/skbio/stats/ordination/_principal_coordinate_analysis.py:107: RuntimeWarning: The result contains negative eigenvalues. Please compare their magnitude with the magnitude of some of the largest positive eigenvalues. If the negative ones are smaller, it's probably safe to ignore them, but if they are large in magnitude, the results won't be useful. See the Notes section for more details. The smallest eigenvalue is -0.00123418456635 and the largest is 0.144843604453.\n",
      "  RuntimeWarning\n",
      "/Users/husenzhang/anaconda3/envs/qiime/lib/python2.7/site-packages/matplotlib/collections.py:590: FutureWarning: elementwise comparison failed; returning scalar instead, but in the future will perform elementwise comparison\n",
      "  if self._edgecolors == str('face'):\n",
      "/Users/husenzhang/anaconda3/envs/qiime/lib/python2.7/site-packages/matplotlib/collections.py:590: FutureWarning: elementwise comparison failed; returning scalar instead, but in the future will perform elementwise comparison\n",
      "  if self._edgecolors == str('face'):\n",
      "/Users/husenzhang/anaconda3/envs/qiime/lib/python2.7/site-packages/matplotlib/collections.py:590: FutureWarning: elementwise comparison failed; returning scalar instead, but in the future will perform elementwise comparison\n",
      "  if self._edgecolors == str('face'):\n",
      "/Users/husenzhang/anaconda3/envs/qiime/lib/python2.7/site-packages/matplotlib/tight_layout.py:225: UserWarning: tight_layout : falling back to Agg renderer\n",
      "  warnings.warn(\"tight_layout : falling back to Agg renderer\")\n",
      "/Users/husenzhang/anaconda3/envs/qiime/lib/python2.7/site-packages/matplotlib/tight_layout.py:225: UserWarning: tight_layout : falling back to Agg renderer\n",
      "  warnings.warn(\"tight_layout : falling back to Agg renderer\")\n",
      "/Users/husenzhang/anaconda3/envs/qiime/lib/python2.7/site-packages/matplotlib/tight_layout.py:225: UserWarning: tight_layout : falling back to Agg renderer\n",
      "  warnings.warn(\"tight_layout : falling back to Agg renderer\")\n",
      "/Users/husenzhang/anaconda3/envs/qiime/lib/python2.7/site-packages/matplotlib/tight_layout.py:225: UserWarning: tight_layout : falling back to Agg renderer\n",
      "  warnings.warn(\"tight_layout : falling back to Agg renderer\")\n",
      "/Users/husenzhang/anaconda3/envs/qiime/lib/python2.7/site-packages/matplotlib/tight_layout.py:225: UserWarning: tight_layout : falling back to Agg renderer\n",
      "  warnings.warn(\"tight_layout : falling back to Agg renderer\")\n"
     ]
    }
   ],
   "source": [
    "# this script will run ~ 5 min\n",
    "core_diversity_analyses.py -m data/map.txt \\\n",
    "                           -i out/otu_tax.biom \\\n",
    "                           -e 2000 \\\n",
    "                           -c Treatment \\\n",
    "                           -t out/rep_set.tre \\\n",
    "                           -o qiime_output "
   ]
  },
  {
   "cell_type": "markdown",
   "metadata": {},
   "source": [
    "### QIIME dashboard - index.html\n",
    "- taxa summary\n",
    "- taxa summary by Treatment\n",
    "- alpha, beta diversity\n",
    "- __group_significance__"
   ]
  },
  {
   "cell_type": "markdown",
   "metadata": {},
   "source": [
    "__permanova__ test"
   ]
  },
  {
   "cell_type": "code",
   "execution_count": 7,
   "metadata": {
    "collapsed": true
   },
   "outputs": [],
   "source": [
    "compare_categories.py \\\n",
    "   --method permanova \\\n",
    "   -i qiime_output/bdiv_even2000/unweighted_unifrac_dm.txt\\\n",
    "   -m data/map.txt \\\n",
    "   -c Treatment \\\n",
    "   -o qiime_output \\\n",
    "   -n 999"
   ]
  },
  {
   "cell_type": "markdown",
   "metadata": {},
   "source": [
    "__anosim__ test"
   ]
  },
  {
   "cell_type": "code",
   "execution_count": 8,
   "metadata": {
    "collapsed": true
   },
   "outputs": [],
   "source": [
    "compare_categories.py \\\n",
    "   --method anosim \\\n",
    "   -i qiime_output/bdiv_even2000/unweighted_unifrac_dm.txt\\\n",
    "   -m data/map.txt \\\n",
    "   -c Treatment \\\n",
    "   -o qiime_output \\\n",
    "   -n 999"
   ]
  },
  {
   "cell_type": "code",
   "execution_count": null,
   "metadata": {
    "collapsed": true
   },
   "outputs": [],
   "source": []
  }
 ],
 "metadata": {
  "anaconda-cloud": {},
  "kernelspec": {
   "display_name": "Bash",
   "language": "bash",
   "name": "bash"
  },
  "language_info": {
   "codemirror_mode": "shell",
   "file_extension": ".sh",
   "mimetype": "text/x-sh",
   "name": "bash"
  }
 },
 "nbformat": 4,
 "nbformat_minor": 1
}
