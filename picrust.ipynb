{
 "cells": [
  {
   "cell_type": "markdown",
   "metadata": {},
   "source": [
    "## Picrust: metagenomic inference from 16S data\n",
    "\n",
    "### if you have 16S sequencing data, you can 'infer' whole genomes \n",
    "### by using picrust\n",
    "\n",
    "Predictive functional profiling of microbial communities using 16S rRNA marker gene sequences. Langille, M. G.I.*; Zaneveld, J.*; Caporaso, J. G.; McDonald, D.; Knights, D.; a Reyes, J.; Clemente, J. C.; Burkepile, D. E.; Vega Thurber, R. L.; Knight, R.; Beiko, R. G.; and Huttenhower, C. __Nature Biotechnology__, 1-10. 8 2013."
   ]
  },
  {
   "cell_type": "code",
   "execution_count": 3,
   "metadata": {
    "collapsed": false
   },
   "outputs": [
    {
     "name": "stdout",
     "output_type": "stream",
     "text": [
      "/Users/husenzhang/Documents/GitHub/FAES_metagenomics\n"
     ]
    }
   ],
   "source": [
    "# make sure you are in 'metag' folder\n",
    "pwd"
   ]
  },
  {
   "cell_type": "code",
   "execution_count": 7,
   "metadata": {
    "collapsed": true
   },
   "outputs": [],
   "source": [
    "# change '.' to '_' in seqs.fa\n",
    "# necessary for pick_closed_reference_otus script below\n",
    "sed 's/\\./_/' pre-computed-results/seqs.fa \\\n",
    "      > pre-computed-results/seqs_picrust.fa"
   ]
  },
  {
   "cell_type": "code",
   "execution_count": 12,
   "metadata": {
    "collapsed": false
   },
   "outputs": [
    {
     "name": "stdout",
     "output_type": "stream",
     "text": [
      ">S1.2\n",
      ">S1_2\n"
     ]
    }
   ],
   "source": [
    "# check if \".\" -> \"_\" ? yes success\n",
    "head -1 pre-computed-results/seqs.fa\n",
    "head -1 pre-computed-results/seqs_picrust.fa"
   ]
  },
  {
   "cell_type": "markdown",
   "metadata": {},
   "source": [
    "### type: qiime"
   ]
  },
  {
   "cell_type": "code",
   "execution_count": 9,
   "metadata": {
    "collapsed": false
   },
   "outputs": [],
   "source": [
    "# Picrust only works with closed OTU pick\n",
    "# only OTUs in greengene databases are retained\n",
    "# novel OTUs discarded. Necessary for genome imputation\n",
    "# Closed OTU pick explanation:\n",
    "# http://qiime.org/scripts/pick_closed_reference_otus.html\n",
    "pick_closed_reference_otus.py \\\n",
    "     -i pre-computed-results/seqs_picrust.fa \\\n",
    "     -o picrust_biom -f                   "
   ]
  },
  {
   "cell_type": "code",
   "execution_count": 13,
   "metadata": {
    "collapsed": false
   },
   "outputs": [
    {
     "name": "stdout",
     "output_type": "stream",
     "text": [
      "Num samples: 6\n",
      "Num observations: 372\n",
      "Total count: 11,414\n",
      "Table density (fraction of non-zero values): 0.395\n",
      "\n",
      "Counts/sample summary:\n",
      " Min: 1,784.000\n",
      " Max: 2,022.000\n",
      " Median: 1,915.000\n",
      " Mean: 1,902.333\n",
      " Std. dev.: 78.191\n",
      " Sample Metadata Categories: None provided\n",
      " Observation Metadata Categories: taxonomy\n",
      "\n",
      "Counts/sample detail:\n",
      "S1: 1,784.000\n",
      "S3: 1,828.000\n",
      "S4: 1,904.000\n",
      "S6: 1,926.000\n",
      "S2: 1,950.000\n",
      "S5: 2,022.000\n"
     ]
    }
   ],
   "source": [
    "# check the new otu_table \n",
    "biom summarize-table -i picrust_biom/otu_table.biom"
   ]
  },
  {
   "cell_type": "markdown",
   "metadata": {},
   "source": [
    "Num observations: 372 -- even bigger than 76\n",
    "we saw on Tuesday?  Don't worry - 76 OTUs are picked\n",
    "by usearch, which tends to have 'tighter' clusters.\n",
    "let's just move on..."
   ]
  },
  {
   "cell_type": "markdown",
   "metadata": {},
   "source": [
    "### important: exit qiime"
   ]
  },
  {
   "cell_type": "markdown",
   "metadata": {},
   "source": [
    "###  picrust step1: normalize genome copies"
   ]
  },
  {
   "cell_type": "code",
   "execution_count": null,
   "metadata": {
    "collapsed": true
   },
   "outputs": [],
   "source": [
    "# E. coli genome has 6 copies of 16S\n",
    "# Thermotoga maritima has only 1.\n",
    "normalize_by_copy_number.py \\\n",
    "   -i picrust_biom/otu_table.biom \\\n",
    "   -o picrust_biom/norm.biom"
   ]
  },
  {
   "cell_type": "markdown",
   "metadata": {},
   "source": [
    "### Step 2: Predict Functions For Metagenome"
   ]
  },
  {
   "cell_type": "code",
   "execution_count": null,
   "metadata": {
    "collapsed": true
   },
   "outputs": [],
   "source": [
    "# creates the final metagenome functional predictions. \n",
    "# It multiplies each normalized OTU abundance \n",
    "# by each predicted functional trait abundance \n",
    "# to produce a table of functions (rows) by samples (columns).\n",
    "\n",
    "# Input is the normalized OTU table created by \n",
    "# normalize_by_copy_number.py.\n",
    "# Output is in biom format by default:\n",
    "\n",
    "predict_metagenomes.py \\\n",
    "        -i picrust_biom/norm.biom  \\\n",
    "        -o picrust_biom/predictions.biom"
   ]
  },
  {
   "cell_type": "markdown",
   "metadata": {},
   "source": [
    "### step 3: collapse genes into KEGG pathways"
   ]
  },
  {
   "cell_type": "code",
   "execution_count": null,
   "metadata": {
    "collapsed": true
   },
   "outputs": [],
   "source": [
    "categorize_by_function.py \\\n",
    "  -i picrust_biom/predictions.biom \\\n",
    "  -c KEGG_Pathways \\\n",
    "  -l 3 \\\n",
    "  -o picrust_biom/L3.biom\n"
   ]
  },
  {
   "cell_type": "markdown",
   "metadata": {},
   "source": [
    "#### convert L3.biom to L3.txt - easier to read"
   ]
  },
  {
   "cell_type": "code",
   "execution_count": null,
   "metadata": {
    "collapsed": true
   },
   "outputs": [],
   "source": [
    "biom convert \\\n",
    "   --to-tsv \\\n",
    "   --header-key KEGG_Pathways \\\n",
    "   -i picrust_biom/L3.biom \\\n",
    "   -o picrust_biom/L3.txt"
   ]
  },
  {
   "cell_type": "code",
   "execution_count": null,
   "metadata": {
    "collapsed": true
   },
   "outputs": [],
   "source": [
    "# view the metagenomic pathways\n",
    "sed 1d picrust_biom/L3.txt| head -4 | cut -f2- | less -S"
   ]
  },
  {
   "cell_type": "code",
   "execution_count": null,
   "metadata": {
    "collapsed": true
   },
   "outputs": [],
   "source": [
    "S1      S2      S3      S4      S5      S6      KEGG_Pathways\n",
    "0.0     0.0     4.0     6.0     0.0     0.0     Metabolism; Xenobiotics Biodegradation and Metabolism; 1\n",
    "29360.0 33367.0 46563.0 35558.0 41137.0 34115.0 Environmental Information Processing; Membrane Transport\n",
    "0.0     0.0     0.0     0.0     0.0     0.0     Cellular Processes; Cell Communication; Adherens junctio\n",
    "887.0   1013.0  944.0   1115.0  899.0   895.0   Organismal Systems; Endocrine System; Adipocytokine sign"
   ]
  },
  {
   "cell_type": "markdown",
   "metadata": {},
   "source": [
    "#### very carefully type the following command"
   ]
  },
  {
   "cell_type": "code",
   "execution_count": null,
   "metadata": {
    "collapsed": true
   },
   "outputs": [],
   "source": [
    "sed -i 's/KEGG_Pathways/taxonomy/' picrust_biom/L3.txt"
   ]
  },
  {
   "cell_type": "markdown",
   "metadata": {},
   "source": [
    "### getting the pathway table ready for plotting"
   ]
  },
  {
   "cell_type": "code",
   "execution_count": null,
   "metadata": {
    "collapsed": true
   },
   "outputs": [],
   "source": [
    "biom convert --to-hdf5 \\\n",
    "      --process-obs-metadata taxonomy \\\n",
    "      -o ~/Desktop/L3.hdf5 \\\n",
    "      -i picrust_biom/L3.txt \\\n",
    "      --table-type \"Pathway table\""
   ]
  },
  {
   "cell_type": "markdown",
   "metadata": {},
   "source": [
    "### important: type: qiime\n",
    "#### now we plot the pathways using the same metadata 'map.txt'\n",
    "#### we pass on '--nonphylogenetic_diversity' because we do not \n",
    "#### have a tree file for pathways - we only have a tree for 16S."
   ]
  },
  {
   "cell_type": "code",
   "execution_count": null,
   "metadata": {
    "collapsed": true
   },
   "outputs": [],
   "source": [
    "# plotting the pathways\n",
    "# \n",
    "core_diversity_analyses.py -i ~/Desktop/L3.hdf5 \\\n",
    "    -o picrust_core_diversity \\\n",
    "    -m data/map.txt \\\n",
    "    -e 1000 \\\n",
    "    --nonphylogenetic_diversity"
   ]
  },
  {
   "cell_type": "markdown",
   "metadata": {},
   "source": [
    "#### warming like these are fine\n",
    "/usr/lib/pymodules/python2.7/matplotlib/collections.py:548: FutureWarning: elementwise comparison failed; returning scalar instead, but in the future will perform elementwise comparison\n",
    "  if self._edgecolors == 'face':"
   ]
  },
  {
   "cell_type": "markdown",
   "metadata": {},
   "source": [
    "cd picrust_core_diversity\n",
    "ls -lh"
   ]
  },
  {
   "cell_type": "markdown",
   "metadata": {},
   "source": [
    "### double click 'index.html'\n",
    "#### here you will find various results \n",
    "#### take some time (15 min) to explore these results "
   ]
  },
  {
   "cell_type": "code",
   "execution_count": null,
   "metadata": {
    "collapsed": true
   },
   "outputs": [],
   "source": [
    "hzhang@bl8vbox[picrust_core_diversity] ll \n",
    "\n",
    "drwxrwxr-x 4 hzhang hzhang  4096 Nov 16 18:17 arare_max1000\n",
    "drwxrwxr-x 3 hzhang hzhang  4096 Nov 16 18:16 bdiv_even1000\n",
    "-rw-rw-r-- 1 hzhang hzhang   427 Nov 16 18:16 biom_table_summary.txt\n",
    "-rw-rw-r-- 1 hzhang hzhang  2209 Nov 16 18:17 index.html\n",
    "-rw-rw-r-- 1 hzhang hzhang  5275 Nov 16 18:17 log_20171116181639.txt\n",
    "-rw-rw-r-- 1 hzhang hzhang 16019 Nov 16 18:16 table_even1000.biom.gz\n",
    "-rw-rw-r-- 1 hzhang hzhang 29103 Nov 16 18:16 table_mc1000.biom.gz\n",
    "drwxrwxr-x 3 hzhang hzhang  4096 Nov 16 18:17 taxa_plots"
   ]
  },
  {
   "cell_type": "code",
   "execution_count": null,
   "metadata": {
    "collapsed": true
   },
   "outputs": [],
   "source": []
  }
 ],
 "metadata": {
  "anaconda-cloud": {},
  "kernelspec": {
   "display_name": "Bash",
   "language": "bash",
   "name": "bash"
  },
  "language_info": {
   "codemirror_mode": "shell",
   "file_extension": ".sh",
   "mimetype": "text/x-sh",
   "name": "bash"
  }
 },
 "nbformat": 4,
 "nbformat_minor": 2
}
